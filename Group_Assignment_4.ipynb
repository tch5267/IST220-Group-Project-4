{
  "nbformat": 4,
  "nbformat_minor": 0,
  "metadata": {
    "colab": {
      "name": "Group Assignment 4.ipynb",
      "provenance": [],
      "collapsed_sections": []
    },
    "kernelspec": {
      "name": "python3",
      "display_name": "Python 3"
    }
  },
  "cells": [
    {
      "cell_type": "code",
      "metadata": {
        "id": "KudoAq-Ww3yV",
        "colab_type": "code",
        "colab": {}
      },
      "source": [
        ""
      ],
      "execution_count": 0,
      "outputs": []
    },
    {
      "cell_type": "markdown",
      "metadata": {
        "id": "ssggCIgExnye",
        "colab_type": "text"
      },
      "source": [
        "![alt text](https://i.imgur.com/1ojDs9r.png)"
      ]
    },
    {
      "cell_type": "code",
      "metadata": {
        "id": "ckfuD6aVyKIv",
        "colab_type": "code",
        "colab": {}
      },
      "source": [
        "import sqlite3 # Once imported in a single notebook, it is available to us throughout the rest of the notebook. \n",
        "# connect to database, if not there, create it.\n",
        "connectionToDatabase = sqlite3.connect('TollBoothData') \n",
        "cursor = connectionToDatabase.cursor()\n",
        "\n",
        "cursor.execute('''drop table IF EXISTS VehicleInfo''')\n",
        "connectionToDatabase.commit()\n",
        "\n",
        "cursor.execute('''create table VehicleInfo (VehicleID text, make text, model text, LicensePlate text, color text, year int, type text, paid int, CostID text, PRIMARY KEY(VehicleID, LicensePlate))''')\n",
        "connectionToDatabase.commit()\n",
        "\n",
        "cursor.execute('''drop table IF EXISTS CostInfo''')\n",
        "connectionToDatabase.commit()\n",
        "\n",
        "cursor.execute('''create table CostInfo (CostID text, VehicleID text, type text, price real, PRIMARY KEY(CostID, VehicleID))''')\n",
        "connectionToDatabase.commit()\n",
        "\n",
        "cursor.execute('''drop table IF EXISTS LaneInfo''')\n",
        "connectionToDatabase.commit()\n",
        "\n",
        "cursor.execute('''create table LaneInfo (LaneID text, VehicleID text, dateTime text, PRIMARY KEY (LaneID, dateTime, VehicleID))''')\n",
        "connectionToDatabase.commit()\n",
        "\n",
        "cursor.execute('''drop table IF EXISTS TransInfo''')\n",
        "connectionToDatabase.commit()\n",
        "\n",
        "cursor.execute('''create table TransInfo (TransID text, paymentType text, CostID text, multiplier real, total real, VehicleID text, LaneID text, PRIMARY KEY(TransID, VehicleID, LaneID)) ''')\n",
        "connectionToDatabase.commit()\n",
        "\n",
        "cursor.execute('''drop table IF EXISTS Statistics''')\n",
        "connectionToDatabase.commit()\n",
        "\n",
        "cursor.execute('''create table Statistics (StatID text, LaneID text, date text, NumCars int, NumTrucks int, avgWait text, PRIMARY KEY(StatID, LaneID))''')\n",
        "connectionToDatabase.commit()\n",
        "\n"
      ],
      "execution_count": 0,
      "outputs": []
    },
    {
      "cell_type": "code",
      "metadata": {
        "id": "nx9ruG4D2NBS",
        "colab_type": "code",
        "colab": {}
      },
      "source": [
        "insertStatement =  \"\"\"insert into VehicleInfo values (\"%s\",\"%s\",\"%s\",\"%s\",\"%s\",%s,\"%s\",%s,\"%s\")\"\"\" % (\"V2378589\",\"Nissan\",\"370z\",\"XHG-567\",\"Black\",2004,\"Coupe\",1,\"C14253552\")\n",
        "cursor.execute(insertStatement)\n",
        "insertStatement =  \"\"\"insert into VehicleInfo values (\"%s\",\"%s\",\"%s\",\"%s\",\"%s\",%s,\"%s\",%s,\"%s\")\"\"\" % (\"V5623404\",\"Honda\",\"Pilot\",\"FHG-G56\",\"White\",2019,\"SUV\",1,\"C25124543\")\n",
        "cursor.execute(insertStatement)\n",
        "insertStatement =  \"\"\"insert into VehicleInfo values (\"%s\",\"%s\",\"%s\",\"%s\",\"%s\",%s,\"%s\",%s,\"%s\")\"\"\" % (\"V1242896\",\"Chevy\",\"2500\",\"VNDK98\",\"Grey\",2018,\"Truck\",1,\"C22452454\")\n",
        "cursor.execute(insertStatement)\n",
        "insertStatement =  \"\"\"insert into VehicleInfo values (\"%s\",\"%s\",\"%s\",\"%s\",\"%s\",%s,\"%s\",%s,\"%s\")\"\"\" % (\"V2324234\",\"Chrysler\",\"Pacifica\",\"HJKI67\",\"Silver\",2010,\"Van\",1,\"C32345252\")\n",
        "cursor.execute(insertStatement)\n",
        "insertStatement =  \"\"\"insert into VehicleInfo values (\"%s\",\"%s\",\"%s\",\"%s\",\"%s\",%s,\"%s\",%s,\"%s\")\"\"\" % (\"V4523782\",\"Jaguar\",\"F-type\",\"GH567H\",\"Red\",2016,\"Coupe\",1,\"C55245252\")\n",
        "cursor.execute(insertStatement)\n",
        "connectionToDatabase.commit()"
      ],
      "execution_count": 0,
      "outputs": []
    },
    {
      "cell_type": "code",
      "metadata": {
        "id": "q-mS2VFnzCxZ",
        "colab_type": "code",
        "colab": {}
      },
      "source": [
        "insertStatement =  \"\"\"insert into CostInfo values (\"%s\",\"%s\",\"%s\",%s)\"\"\" % (\"C14253552\",\"V2378589\",\"Coupe\",2.00)\n",
        "cursor.execute(insertStatement)\n",
        "insertStatement =  \"\"\"insert into CostInfo values (\"%s\",\"%s\",\"%s\",%s)\"\"\" % (\"C22452454\",\"V1242896\",\"Truck\",3.00)\n",
        "cursor.execute(insertStatement)\n",
        "insertStatement =  \"\"\"insert into CostInfo values (\"%s\",\"%s\",\"%s\",%s)\"\"\" % (\"C25124543\",\"V5623404\",\"SUV\",2.75)\n",
        "cursor.execute(insertStatement)\n",
        "insertStatement =  \"\"\"insert into CostInfo values (\"%s\",\"%s\",\"%s\",%s)\"\"\" % (\"C32345252\",\"V2324234\",\"Sedan\",2.25)\n",
        "cursor.execute(insertStatement)\n",
        "insertStatement =  \"\"\"insert into CostInfo values (\"%s\",\"%s\",\"%s\",%s)\"\"\" % (\"C55245252\",\"V4523782\",\"Van\",2.50)\n",
        "cursor.execute(insertStatement)\n",
        "connectionToDatabase.commit()"
      ],
      "execution_count": 0,
      "outputs": []
    },
    {
      "cell_type": "code",
      "metadata": {
        "id": "7HR95p8m0qZc",
        "colab_type": "code",
        "colab": {}
      },
      "source": [
        "insertStatement =  \"\"\"insert into LaneInfo values (\"%s\",\"%s\",\"%s\")\"\"\" % (\"L1\",\"V5623404\",\"2019-12-20 15:50:23\")\n",
        "cursor.execute(insertStatement)\n",
        "insertStatement =  \"\"\"insert into LaneInfo values (\"%s\",\"%s\",\"%s\")\"\"\" % (\"L2\",\"V1242896\",\"2019-12-20 16:00:12\")\n",
        "cursor.execute(insertStatement)\n",
        "insertStatement =  \"\"\"insert into LaneInfo values (\"%s\",\"%s\",\"%s\")\"\"\" % (\"L4\",\"V2378589\",\"2019-12-20 17:32:45\")\n",
        "cursor.execute(insertStatement)\n",
        "insertStatement =  \"\"\"insert into LaneInfo values (\"%s\",\"%s\",\"%s\")\"\"\" % (\"L8\",\"V2324234\",\"2019-12-20 12:15:54\")\n",
        "cursor.execute(insertStatement)\n",
        "insertStatement =  \"\"\"insert into LaneInfo values (\"%s\",\"%s\",\"%s\")\"\"\" % (\"L7\",\"V4523782\",\"2019-12-20 10:12:35\")\n",
        "cursor.execute(insertStatement)\n",
        "connectionToDatabase.commit()"
      ],
      "execution_count": 0,
      "outputs": []
    },
    {
      "cell_type": "code",
      "metadata": {
        "id": "3aRz5hhFmEoT",
        "colab_type": "code",
        "colab": {}
      },
      "source": [
        "insertStatement =  \"\"\"insert into TransInfo values (\"%s\",\"%s\",\"%s\",%s,%s,\"%s\",\"%s\")\"\"\" % (\"T12412348\",\"Cash\",\"C22452454\",0.25,3.25,\"V1242896\",\"L1\")\n",
        "cursor.execute(insertStatement)\n",
        "insertStatement =  \"\"\"insert into TransInfo values (\"%s\",\"%s\",\"%s\",%s,%s,\"%s\",\"%s\")\"\"\" % (\"T23423041\",\"Card\",\"C14253552\",0.50,4.00,\"V2378589\",\"L4\")\n",
        "cursor.execute(insertStatement)\n",
        "insertStatement =  \"\"\"insert into TransInfo values (\"%s\",\"%s\",\"%s\",%s,%s,\"%s\",\"%s\")\"\"\" % (\"T34242342\",\"Card\",\"C55245252\",0.15,2.75,\"V4523782\",\"L7\")\n",
        "cursor.execute(insertStatement)\n",
        "insertStatement =  \"\"\"insert into TransInfo values (\"%s\",\"%s\",\"%s\",%s,%s,\"%s\",\"%s\")\"\"\" % (\"T23423437\",\"Cash\",\"C32345252\",0.25,3.10,\"V2324234\",\"L8\")\n",
        "cursor.execute(insertStatement)\n",
        "insertStatement =  \"\"\"insert into TransInfo values (\"%s\",\"%s\",\"%s\",%s,%s,\"%s\",\"%s\")\"\"\" % (\"T23423423\",\"Cash\",\"C25124543\",0.75,4.00,\"V5623404\",\"L1\")\n",
        "cursor.execute(insertStatement)\n",
        "connectionToDatabase.commit() "
      ],
      "execution_count": 0,
      "outputs": []
    },
    {
      "cell_type": "code",
      "metadata": {
        "id": "RQOHz3btmFMl",
        "colab_type": "code",
        "colab": {}
      },
      "source": [
        "insertStatement =  \"\"\"insert into Statistics values (\"%s\",\"%s\",\"%s\",%s,%s,\"%s\")\"\"\" % (\"S34141\",\"L4\",\"2019-12-12\",34,10,\"00:01:30\")\n",
        "cursor.execute(insertStatement)\n",
        "insertStatement =  \"\"\"insert into Statistics values (\"%s\",\"%s\",\"%s\",%s,%s,\"%s\")\"\"\" % (\"S21341\",\"L9\",\"2019-11-31\",40,21,\"00:00:39\")\n",
        "cursor.execute(insertStatement)\n",
        "insertStatement =  \"\"\"insert into Statistics values (\"%s\",\"%s\",\"%s\",%s,%s,\"%s\")\"\"\" % (\"S42314\",\"L3\",\"2019-12-6\",51,12,\"00:01:01\")\n",
        "cursor.execute(insertStatement)\n",
        "insertStatement =  \"\"\"insert into Statistics values (\"%s\",\"%s\",\"%s\",%s,%s,\"%s\")\"\"\" % (\"S23148\",\"L5\",\"2020-1-1\",29,7,\"00:00:01\")\n",
        "cursor.execute(insertStatement)\n",
        "insertStatement =  \"\"\"insert into Statistics values (\"%s\",\"%s\",\"%s\",%s,%s,\"%s\")\"\"\" % (\"S34239\",\"L6\",\"2019-12-20\",36,4,\"00:02:05\")\n",
        "cursor.execute(insertStatement)\n",
        "connectionToDatabase.commit()"
      ],
      "execution_count": 0,
      "outputs": []
    },
    {
      "cell_type": "code",
      "metadata": {
        "id": "EjH5cRf0V8Y0",
        "colab_type": "code",
        "outputId": "95626827-9dae-4d5c-d875-50964ea0e71a",
        "colab": {
          "base_uri": "https://localhost:8080/",
          "height": 102
        }
      },
      "source": [
        "cursor.execute('''select * from VehicleInfo;''')\n",
        "for row in cursor.fetchall():\n",
        "  print (row)"
      ],
      "execution_count": 0,
      "outputs": [
        {
          "output_type": "stream",
          "text": [
            "('V2378589', 'Nissan', '370z', 'XHG-567', 'Black', 2004, 'Coupe', 1, 'C14253552')\n",
            "('V5623404', 'Honda', 'Pilot', 'FHG-G56', 'White', 2019, 'SUV', 1, 'C25124543')\n",
            "('V1242896', 'Chevy', '2500', 'VNDK98', 'Grey', 2018, 'Truck', 1, 'C22452454')\n",
            "('V2324234', 'Chrysler', 'Pacifica', 'HJKI67', 'Silver', 2010, 'Van', 1, 'C32345252')\n",
            "('V4523782', 'Jaguar', 'F-type', 'GH567H', 'Red', 2016, 'Coupe', 1, 'C55245252')\n"
          ],
          "name": "stdout"
        }
      ]
    },
    {
      "cell_type": "code",
      "metadata": {
        "id": "JlcEgAQ1zyD4",
        "colab_type": "code",
        "outputId": "66f1d8d5-bfdb-4d09-9d1a-d9588b467f40",
        "colab": {
          "base_uri": "https://localhost:8080/",
          "height": 102
        }
      },
      "source": [
        "cursor.execute('''select * from CostInfo;''')\n",
        "for row in cursor.fetchall():\n",
        "  print (row)"
      ],
      "execution_count": 0,
      "outputs": [
        {
          "output_type": "stream",
          "text": [
            "('C14253552', 'V2378589', 'Coupe', 2.0)\n",
            "('C22452454', 'V1242896', 'Truck', 3.0)\n",
            "('C25124543', 'V5623404', 'SUV', 2.75)\n",
            "('C32345252', 'V2324234', 'Sedan', 2.25)\n",
            "('C55245252', 'V4523782', 'Van', 2.5)\n"
          ],
          "name": "stdout"
        }
      ]
    },
    {
      "cell_type": "code",
      "metadata": {
        "id": "tI-X-OeOpyQQ",
        "colab_type": "code",
        "outputId": "9515f200-2e38-4a85-d6cb-6ccb5bfbe156",
        "colab": {
          "base_uri": "https://localhost:8080/",
          "height": 102
        }
      },
      "source": [
        "cursor.execute('''select * from LaneInfo;''')\n",
        "for row in cursor.fetchall():\n",
        "  print (row)"
      ],
      "execution_count": 0,
      "outputs": [
        {
          "output_type": "stream",
          "text": [
            "('L1', 'V5623404', '2019-12-20 15:50:23')\n",
            "('L2', 'V1242896', '2019-12-20 16:00:12')\n",
            "('L4', 'V2378589', '2019-12-20 17:32:45')\n",
            "('L8', 'V2324234', '2019-12-20 12:15:54')\n",
            "('L7', 'V4523782', '2019-12-20 10:12:35')\n"
          ],
          "name": "stdout"
        }
      ]
    },
    {
      "cell_type": "code",
      "metadata": {
        "id": "RcV2LSkYp6CZ",
        "colab_type": "code",
        "outputId": "f5da5959-0f61-4e9b-8225-9ed30a8a34d3",
        "colab": {
          "base_uri": "https://localhost:8080/",
          "height": 102
        }
      },
      "source": [
        "cursor.execute('''select * from TransInfo;''')\n",
        "for row in cursor.fetchall():\n",
        "  print (row)"
      ],
      "execution_count": 0,
      "outputs": [
        {
          "output_type": "stream",
          "text": [
            "('T12412348', 'Cash', 'C22452454', 0.25, 3.25, 'V1242896', 'L1')\n",
            "('T23423041', 'Card', 'C14253552', 0.5, 4.0, 'V2378589', 'L4')\n",
            "('T34242342', 'Card', 'C55245252', 0.15, 2.75, 'V4523782', 'L7')\n",
            "('T23423437', 'Cash', 'C32345252', 0.25, 3.1, 'V2324234', 'L8')\n",
            "('T23423423', 'Cash', 'C25124543', 0.75, 4.0, 'V5623404', 'L1')\n"
          ],
          "name": "stdout"
        }
      ]
    },
    {
      "cell_type": "code",
      "metadata": {
        "id": "v0obs_2gp8G-",
        "colab_type": "code",
        "outputId": "dae385ba-eb3b-4264-8b90-17fec8fc9943",
        "colab": {
          "base_uri": "https://localhost:8080/",
          "height": 102
        }
      },
      "source": [
        "cursor.execute('''select * from Statistics;''')\n",
        "for row in cursor.fetchall():\n",
        "  print (row)"
      ],
      "execution_count": 0,
      "outputs": [
        {
          "output_type": "stream",
          "text": [
            "('S34141', 'L4', '2019-12-12', 34, 10, '00:01:30')\n",
            "('S21341', 'L9', '2019-11-31', 40, 21, '00:00:39')\n",
            "('S42314', 'L3', '2019-12-6', 51, 12, '00:01:01')\n",
            "('S23148', 'L5', '2020-1-1', 29, 7, '00:00:01')\n",
            "('S34239', 'L6', '2019-12-20', 36, 4, '00:02:05')\n"
          ],
          "name": "stdout"
        }
      ]
    },
    {
      "cell_type": "markdown",
      "metadata": {
        "id": "B6p6P6_jKh7l",
        "colab_type": "text"
      },
      "source": [
        "How many red cars went trought the tool booth?\n",
        "\n",
        "This question is important because it helps us other companies market to consumers. If they see a lot of red cars go through the toll, they can assume that red is a popular color to have. The result met our expectation, showing that there was only 1 red car that went through the toll."
      ]
    },
    {
      "cell_type": "code",
      "metadata": {
        "id": "f9jIi3E0YS3m",
        "colab_type": "code",
        "outputId": "f67c3ed5-dde8-4a4b-deff-996beb865216",
        "colab": {
          "base_uri": "https://localhost:8080/",
          "height": 34
        }
      },
      "source": [
        "cursor.execute('''select color, count(color) from VehicleInfo where color = \"Red\";''')\n",
        "for row in cursor.fetchall(): \n",
        "  print (row)"
      ],
      "execution_count": 0,
      "outputs": [
        {
          "output_type": "stream",
          "text": [
            "('Red', 1)\n"
          ],
          "name": "stdout"
        }
      ]
    },
    {
      "cell_type": "markdown",
      "metadata": {
        "id": "1bow9CenKrXw",
        "colab_type": "text"
      },
      "source": [
        "What is the license plate number, make and model of a car that went through lane 1 at a specific time?\n",
        "\n",
        "This question is important as it can help with police investigations. In this senario, the police knew that a honda pilot went throught the toll in lane 1 at a certain time, however the needed the licence plate to uniquely identify the vehcile and this vehicle has also been a costumer at this toll before. With this specific compsite information provided by the police, our database was able to provide a licence place number. The results matched our expectatoins, as we only got one data point returned, giving us the specifc car we wanted."
      ]
    },
    {
      "cell_type": "code",
      "metadata": {
        "id": "uNEpeot3Zldg",
        "colab_type": "code",
        "outputId": "d254e1b1-cfb3-4660-d520-5504c171b076",
        "colab": {
          "base_uri": "https://localhost:8080/",
          "height": 34
        }
      },
      "source": [
        "cursor.execute('''select v.licensePlate, v.make, v.model from VehicleInfo v, laneInfo l where v.vehicleID = l.vehicleID and l.dateTime BETWEEN \"2019-12-20 15:15\" AND \"2019-12-20 16:15\" and l.LaneID = \"L1\";''')\n",
        "for row in cursor.fetchall(): \n",
        "  print (row)"
      ],
      "execution_count": 0,
      "outputs": [
        {
          "output_type": "stream",
          "text": [
            "('FHG-G56', 'Honda', 'Pilot')\n"
          ],
          "name": "stdout"
        }
      ]
    },
    {
      "cell_type": "markdown",
      "metadata": {
        "id": "fSUuI40mK8q7",
        "colab_type": "text"
      },
      "source": [
        "How many of each car paid with cash? Which type of car paid with cash the most times?\n",
        "\n",
        "This question is important for future business operations in regards to transactions options and employment. For example, if we see many cars paying with cash, and they are all different, we can ascertain that many people still pay with cash. This will make our company hire more people to be present in toll booths. However, if we still a low number of people, and it is the same type of car, we can assume from the pattern that it is the same people paying with cash each time. In that case, we can determine if it will be more valuable or not to make our toll go fully cashless. The results matched our expectations."
      ]
    },
    {
      "cell_type": "code",
      "metadata": {
        "id": "abPvGTSYci5g",
        "colab_type": "code",
        "outputId": "0c1a1d42-802a-4b1c-9c32-b8b422a99cd9",
        "colab": {
          "base_uri": "https://localhost:8080/",
          "height": 68
        }
      },
      "source": [
        "cursor.execute('''select v.type, t.paymentType, count() from VehicleInfo v, TransInfo t where v.VehicleID = t.VehicleID and t.paymentType = \"Cash\" group by v.type;''')\n",
        "for row in cursor.fetchall(): \n",
        "  print (row)"
      ],
      "execution_count": 0,
      "outputs": [
        {
          "output_type": "stream",
          "text": [
            "('SUV', 'Cash', 1)\n",
            "('Truck', 'Cash', 1)\n",
            "('Van', 'Cash', 1)\n"
          ],
          "name": "stdout"
        }
      ]
    },
    {
      "cell_type": "code",
      "metadata": {
        "id": "Ba1HoQjfgrrk",
        "colab_type": "code",
        "outputId": "2c75b6fd-7926-447b-88b0-726a04f15b63",
        "colab": {
          "base_uri": "https://localhost:8080/",
          "height": 34
        }
      },
      "source": [
        "cursor.execute('''select v.type, t.paymentType, count() from VehicleInfo v, TransInfo t where v.VehicleID = t.VehicleID and t.paymentType = \"Card\" group by v.type;''')\n",
        "for row in cursor.fetchall(): \n",
        "  print (row)"
      ],
      "execution_count": 0,
      "outputs": [
        {
          "output_type": "stream",
          "text": [
            "('Coupe', 'Card', 2)\n"
          ],
          "name": "stdout"
        }
      ]
    },
    {
      "cell_type": "markdown",
      "metadata": {
        "id": "TA6I_cQ2MEhb",
        "colab_type": "text"
      },
      "source": [
        "How many of each car paid with card? Which type of car paid with card the most times?\n",
        "\n",
        "Similar to the pervious question, this will help use analyze our payment method offerings to customers. We can compare data(card vs cash) and plan our payment offerings around that. The result matched our expectatoins, as we saw that coupes payed with the card the most, a total of 2 coupes. "
      ]
    }
  ]
}